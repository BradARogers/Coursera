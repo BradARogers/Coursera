{
 "cells": [
  {
   "cell_type": "markdown",
   "id": "6f232392-ea41-4e80-a970-3ef1975399e9",
   "metadata": {},
   "source": [
    "# Data Science Tools and Ecosystem"
   ]
  },
  {
   "cell_type": "markdown",
   "id": "58a966e3-155e-4790-adc2-6dada2f78f48",
   "metadata": {},
   "source": [
    "In this note, Data Science Tools and Ecosystems are summarized"
   ]
  },
  {
   "cell_type": "markdown",
   "id": "bac67720-7414-46f6-9c7a-cff153f75915",
   "metadata": {},
   "source": [
    "Objectives:\n",
    "- List of popular languages used by Data Scientists\n",
    "- List of commonly used libraries by Data Scientists\n",
    "- Table of tools used by Data Scientists\n",
    "- Example of code cells computing simple arithmetic operations"
   ]
  },
  {
   "cell_type": "markdown",
   "id": "3890c964-162f-4245-bf9a-0c575e8d0733",
   "metadata": {},
   "source": [
    "Some of the popular languages that data scientists use are:\n",
    "1. Python\n",
    "2. R\n",
    "3. C, C++\n",
    "4. SQL\n",
    "5. Julia"
   ]
  },
  {
   "cell_type": "markdown",
   "id": "897bfae0-aa05-4533-93fd-0eaeba794591",
   "metadata": {},
   "source": [
    "Some of the commonly used libraries used by data scientists include:\n",
    "- Pandas\n",
    "- NumPy\n",
    "- SciPy\n",
    "- Matplotlib\n",
    "    "
   ]
  },
  {
   "cell_type": "markdown",
   "id": "b4169222-7875-4837-8700-dfc755598668",
   "metadata": {},
   "source": [
    "|Data Science Tools|\n",
    "|------------------|\n",
    "|Weka|\n",
    "|Java ML|\n",
    "|Apache MLlib|\n",
    "|Deeplearning4|"
   ]
  },
  {
   "cell_type": "markdown",
   "id": "f950823a-a046-44ea-9de1-a9b1e90adac7",
   "metadata": {},
   "source": [
    "### Below are a few examples of evaluating arithmetic expressions in Python"
   ]
  },
  {
   "cell_type": "code",
   "execution_count": 3,
   "id": "8945b1d7-2c25-4f1d-b01b-5fc362d5f6bb",
   "metadata": {
    "tags": []
   },
   "outputs": [
    {
     "data": {
      "text/plain": [
       "17"
      ]
     },
     "execution_count": 3,
     "metadata": {},
     "output_type": "execute_result"
    }
   ],
   "source": [
    "#This is a simple arithmetic expression to multiply than add integers\n",
    "\n",
    "(3*4)+5"
   ]
  },
  {
   "cell_type": "code",
   "execution_count": 4,
   "id": "0dd387bf-99ee-4e83-b85b-a5d4acd1b53b",
   "metadata": {
    "tags": []
   },
   "outputs": [
    {
     "data": {
      "text/plain": [
       "3.3333333333333335"
      ]
     },
     "execution_count": 4,
     "metadata": {},
     "output_type": "execute_result"
    }
   ],
   "source": [
    "#This will convert 200 minutes to hours by dividing by 60\n",
    "\n",
    "200/60"
   ]
  },
  {
   "cell_type": "markdown",
   "id": "027b839e-ef9e-4b89-b9b5-f375f17bc658",
   "metadata": {},
   "source": [
    "## Author\n",
    "Brad Rogers"
   ]
  }
 ],
 "metadata": {
  "kernelspec": {
   "display_name": "Python",
   "language": "python",
   "name": "conda-env-python-py"
  },
  "language_info": {
   "codemirror_mode": {
    "name": "ipython",
    "version": 3
   },
   "file_extension": ".py",
   "mimetype": "text/x-python",
   "name": "python",
   "nbconvert_exporter": "python",
   "pygments_lexer": "ipython3",
   "version": "3.7.12"
  }
 },
 "nbformat": 4,
 "nbformat_minor": 5
}
