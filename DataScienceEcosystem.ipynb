{
 "cells": [
  {
   "cell_type": "markdown",
   "id": "0df67708-f07e-44f2-b604-1f9cce6b0440",
   "metadata": {},
   "source": [
    "# Data Science Tools and Ecosystem"
   ]
  },
  {
   "cell_type": "markdown",
   "id": "2367504c-4793-4d85-8e6f-a832e6b4fd94",
   "metadata": {},
   "source": [
    "In this notebook, Data Science Tools and Ecosystem are summarized."
   ]
  },
  {
   "cell_type": "markdown",
   "id": "550851d4-9c36-420f-bf32-f1f06fe9f1fc",
   "metadata": {
    "tags": []
   },
   "source": [
    "**Objectives:**\n",
    "- List Popular Languages\n",
    "- List common libraries\n",
    "- Create a table of Data Science Tools\n",
    "- Create Code cells to perform algebraic operations"
   ]
  },
  {
   "cell_type": "markdown",
   "id": "c255dfb5-8696-4407-b1f1-338e40b102cb",
   "metadata": {
    "tags": []
   },
   "source": [
    "Some of the popular languages that Data Scientists use are:\n",
    "1. Python\n",
    "2. R\n",
    "3. SQL\n",
    "4. C, C++\n",
    "5. Julia"
   ]
  },
  {
   "cell_type": "markdown",
   "id": "ed9d84e6-1843-4e45-afc1-0d7952d899b4",
   "metadata": {},
   "source": [
    "Some of the commonly used libraries used by Data Scientists include:\n",
    "1. Pandas\n",
    "2. NumPy\n",
    "3. SciPy\n",
    "4. Matplotlib"
   ]
  },
  {
   "cell_type": "markdown",
   "id": "9ad95a5f-f282-473f-8ce5-d3d8925dfae0",
   "metadata": {
    "tags": []
   },
   "source": [
    "|Data Science Tools|\n",
    "|------------------|\n",
    "|Weka|\n",
    "|Java-ML|\n",
    "|Apache MLlib|"
   ]
  },
  {
   "cell_type": "markdown",
   "id": "940ed1b9-972b-49d4-aabc-e3191fdece6e",
   "metadata": {
    "tags": []
   },
   "source": [
    "### Below are a few examples of evaluation arithmetic expressions in Python"
   ]
  },
  {
   "cell_type": "code",
   "execution_count": 10,
   "id": "ceb3586b-4776-4df9-a060-2858bb18e318",
   "metadata": {
    "tags": []
   },
   "outputs": [
    {
     "data": {
      "text/plain": [
       "17"
      ]
     },
     "execution_count": 10,
     "metadata": {},
     "output_type": "execute_result"
    }
   ],
   "source": [
    "#This is a simple arithmetic expression to multiply then add integers\n",
    "\n",
    "(3*4)+5"
   ]
  },
  {
   "cell_type": "code",
   "execution_count": 11,
   "id": "143a40c3-44a3-4d27-bbb7-d70a4328dc97",
   "metadata": {
    "tags": []
   },
   "outputs": [
    {
     "data": {
      "text/plain": [
       "3.3333333333333335"
      ]
     },
     "execution_count": 11,
     "metadata": {},
     "output_type": "execute_result"
    }
   ],
   "source": [
    "#This will convert 200 minutes to hours by dividing by 60\n",
    "\n",
    "200/60"
   ]
  },
  {
   "cell_type": "markdown",
   "id": "7bb3d537-cfe6-4fa7-858f-580c23690ba3",
   "metadata": {},
   "source": [
    "## Author\n",
    "Brad Rogers"
   ]
  }
 ],
 "metadata": {
  "kernelspec": {
   "display_name": "Python",
   "language": "python",
   "name": "conda-env-python-py"
  },
  "language_info": {
   "codemirror_mode": {
    "name": "ipython",
    "version": 3
   },
   "file_extension": ".py",
   "mimetype": "text/x-python",
   "name": "python",
   "nbconvert_exporter": "python",
   "pygments_lexer": "ipython3",
   "version": "3.7.12"
  }
 },
 "nbformat": 4,
 "nbformat_minor": 5
}
